{
  "nbformat": 4,
  "nbformat_minor": 0,
  "metadata": {
    "colab": {
      "provenance": [],
      "authorship_tag": "ABX9TyM6MXJhdoyWYh3c7/FUiA9k",
      "include_colab_link": true
    },
    "kernelspec": {
      "name": "python3",
      "display_name": "Python 3"
    },
    "language_info": {
      "name": "python"
    }
  },
  "cells": [
    {
      "cell_type": "markdown",
      "metadata": {
        "id": "view-in-github",
        "colab_type": "text"
      },
      "source": [
        "<a href=\"https://colab.research.google.com/github/kebscharry/CharityMomanyi/blob/main/Youtube_Installer.ipynb\" target=\"_parent\"><img src=\"https://colab.research.google.com/assets/colab-badge.svg\" alt=\"Open In Colab\"/></a>"
      ]
    },
    {
      "cell_type": "markdown",
      "source": [
        "## Importing libraries"
      ],
      "metadata": {
        "id": "VR3hgiLDa_gL"
      }
    },
    {
      "cell_type": "code",
      "execution_count": 1,
      "metadata": {
        "colab": {
          "base_uri": "https://localhost:8080/"
        },
        "id": "mKwXIKXXa4y6",
        "outputId": "c9c016d7-30e8-4538-a88b-494742240d20"
      },
      "outputs": [
        {
          "output_type": "stream",
          "name": "stdout",
          "text": [
            "Collecting pytube\n",
            "  Downloading pytube-15.0.0-py3-none-any.whl.metadata (5.0 kB)\n",
            "Downloading pytube-15.0.0-py3-none-any.whl (57 kB)\n",
            "\u001b[2K   \u001b[90m━━━━━━━━━━━━━━━━━━━━━━━━━━━━━━━━━━━━━━━━\u001b[0m \u001b[32m57.6/57.6 kB\u001b[0m \u001b[31m1.9 MB/s\u001b[0m eta \u001b[36m0:00:00\u001b[0m\n",
            "\u001b[?25hInstalling collected packages: pytube\n",
            "Successfully installed pytube-15.0.0\n"
          ]
        }
      ],
      "source": [
        "!pip install pytube"
      ]
    },
    {
      "cell_type": "code",
      "source": [
        "from pytube import YouTube\n",
        "from pytube import Playlist\n",
        "from pytube import Channel\n",
        "import os"
      ],
      "metadata": {
        "id": "WchPPjqkbIKP"
      },
      "execution_count": 3,
      "outputs": []
    },
    {
      "cell_type": "markdown",
      "source": [
        "## Creating a cool display window"
      ],
      "metadata": {
        "id": "_i85cXZgbgI_"
      }
    },
    {
      "cell_type": "code",
      "source": [
        "def playlist(url):\n",
        "  #initializing the playlist\n",
        "  playlist = Playlist(url)\n",
        "  print('Number of videos in playlist: %s' % len(playlist.video_urls))\n",
        "  #iterate throughevery video on playlist and download video with max res\n",
        "  for video in playlist.videos:\n",
        "    video.streams.filter(progressive=True, file_extension='mp4').order_by('resolution').desc().first().download()\n",
        "    print(\"Done!!\")"
      ],
      "metadata": {
        "id": "netODHYVbZDK"
      },
      "execution_count": 4,
      "outputs": []
    },
    {
      "cell_type": "markdown",
      "source": [
        "## Creating a Function for Single Video Download"
      ],
      "metadata": {
        "id": "4pbjkXmyd3jc"
      }
    },
    {
      "cell_type": "code",
      "source": [
        "def video(url):\n",
        "  video_caller = YouTube(url)\n",
        "  print(video_caller.title)\n",
        "  video_caller.streams.filter(progressive=True, file_extension='mp4').order_by('resolution').desc().first().download()\n",
        "  print(\"Done!!\")"
      ],
      "metadata": {
        "id": "1MW5r_3BdzNn"
      },
      "execution_count": null,
      "outputs": []
    },
    {
      "cell_type": "markdown",
      "source": [
        "## Creating a Function for Channel Video Downloads"
      ],
      "metadata": {
        "id": "0Rp6UUlOe3Ty"
      }
    },
    {
      "cell_type": "code",
      "source": [
        "def channel(url):\n",
        "  channel_videos = Channel(url)\n",
        "  print(f'Downloading videos by: {channel_videos.channel_name}')\n",
        "  for videp in channel_videos.videos:\n",
        "    video.streams.filter(progressive=True, file_extension='mp4').order_by('resolution').desc().first().download()\n",
        "    print(\"Done!!\")"
      ],
      "metadata": {
        "id": "V8xvttjCe7Qo"
      },
      "execution_count": 5,
      "outputs": []
    },
    {
      "cell_type": "code",
      "source": [],
      "metadata": {
        "id": "P8jLfu0Pf7p4"
      },
      "execution_count": null,
      "outputs": []
    },
    {
      "cell_type": "markdown",
      "source": [
        "## Download Video in Audio Format (Voice-Only)"
      ],
      "metadata": {
        "id": "e7zuCC9ff_zU"
      }
    },
    {
      "cell_type": "code",
      "source": [
        "def video_voice_only(url):\n",
        "    video_caller = YouTube(url)\n",
        "    print(video_caller.title)\n",
        "    audio = video_caller.streams.filter(only_audio=True).first()\n",
        "    out_path = audio.download(output_path=video_caller.title)\n",
        "    new_name = os.path.splitext(out_path)\n",
        "    os.rename(out_path,new_name[0] + \".mp3\")\n",
        "    print(\"Done!!\")"
      ],
      "metadata": {
        "id": "qxeYA8e3gCR0"
      },
      "execution_count": 6,
      "outputs": []
    },
    {
      "cell_type": "markdown",
      "source": [
        "## Download Video in Picture-Only Format"
      ],
      "metadata": {
        "id": "Ni6_utRagnPz"
      }
    },
    {
      "cell_type": "code",
      "source": [
        "def picture_only(url):\n",
        "    video_caller = YouTube(url)\n",
        "    print(video_caller.title)\n",
        "    video = video_caller.streams.filter(only_video=True).first()\n",
        "    out_path = video.download(output_path=video_caller.title)\n",
        "    new_name = os.path.splitext(out_path)\n",
        "    os.rename(out_path,new_name[0] + \".mp4\")\n",
        "    print(\"Done!!\")"
      ],
      "metadata": {
        "id": "OZL9UzMkgkt6"
      },
      "execution_count": 7,
      "outputs": []
    },
    {
      "cell_type": "markdown",
      "source": [
        "## User Input and Execution"
      ],
      "metadata": {
        "id": "rg1b6JUJhKAs"
      }
    },
    {
      "cell_type": "code",
      "source": [
        "if __name__ == \"__main__\":\n",
        "    required = input(\"Enter playlist to download playlist; video to download a video channel to download all videos from a channelnvoice for only voice filenpicture for picture only\")\n",
        "    if required==\"playlist\":\n",
        "        url = input(\"Enter the url for whole playlistn\")\n",
        "        playlist(url=url)\n",
        "    elif required==\"video\":\n",
        "        url = input(\"Enter the url of the videon\")\n",
        "        video(url=url)\n",
        "    elif required==\"channel\":\n",
        "      url = input(\"Enter the url of the channeln\")\n",
        "      channel(url=url)\n",
        "    elif required == \"voice\":\n",
        "        url = input(\"Enter the url of the videon\")\n",
        "        video_voice_only(url)\n",
        "    elif required == \"picture\":\n",
        "        url = input(\"Enter the url of the videon\")\n",
        "        picture_only(url)\n",
        "    else:\n",
        "        print(\"Invalid\")"
      ],
      "metadata": {
        "colab": {
          "base_uri": "https://localhost:8080/"
        },
        "id": "PJ9S_2NMg-MN",
        "outputId": "61656aa7-c28f-4eef-a0e1-dba07a0c8212"
      },
      "execution_count": 8,
      "outputs": [
        {
          "output_type": "stream",
          "name": "stdout",
          "text": [
            "Enter playlist to download playlist; video to download a videonchannel to download all videos from a channelnvoice for only voice filenpicture for picture onlynWakadinali Graduation\n",
            "Invalid\n"
          ]
        }
      ]
    },
    {
      "cell_type": "code",
      "source": [],
      "metadata": {
        "id": "54z3iEoQhi_A"
      },
      "execution_count": null,
      "outputs": []
    }
  ]
}